{
 "cells": [
  {
   "cell_type": "code",
   "execution_count": 1,
   "id": "0e54d5b9",
   "metadata": {
    "_cell_guid": "1c3c84a6-59cc-415e-915d-f9747abf06c4",
    "_uuid": "0cd17a4c-9aa1-4e1d-b0bc-a8e920c66a7b",
    "collapsed": false,
    "execution": {
     "iopub.execute_input": "2024-03-18T18:11:56.320877Z",
     "iopub.status.busy": "2024-03-18T18:11:56.320291Z",
     "iopub.status.idle": "2024-03-18T18:12:10.914351Z",
     "shell.execute_reply": "2024-03-18T18:12:10.913349Z"
    },
    "jupyter": {
     "outputs_hidden": false
    },
    "papermill": {
     "duration": 14.603998,
     "end_time": "2024-03-18T18:12:10.916866",
     "exception": false,
     "start_time": "2024-03-18T18:11:56.312868",
     "status": "completed"
    },
    "tags": []
   },
   "outputs": [
    {
     "name": "stdout",
     "output_type": "stream",
     "text": [
      "Requirement already satisfied: numpy in /opt/conda/lib/python3.10/site-packages (1.26.4)\r\n",
      "Requirement already satisfied: pandas in /opt/conda/lib/python3.10/site-packages (2.2.0)\r\n",
      "Requirement already satisfied: scikit-learn in /opt/conda/lib/python3.10/site-packages (1.2.2)\r\n",
      "Requirement already satisfied: tensorflow in /opt/conda/lib/python3.10/site-packages (2.15.0)\r\n",
      "Requirement already satisfied: keras in /opt/conda/lib/python3.10/site-packages (3.0.5)\r\n",
      "Requirement already satisfied: python-dateutil>=2.8.2 in /opt/conda/lib/python3.10/site-packages (from pandas) (2.8.2)\r\n",
      "Requirement already satisfied: pytz>=2020.1 in /opt/conda/lib/python3.10/site-packages (from pandas) (2023.3.post1)\r\n",
      "Requirement already satisfied: tzdata>=2022.7 in /opt/conda/lib/python3.10/site-packages (from pandas) (2023.4)\r\n",
      "Requirement already satisfied: scipy>=1.3.2 in /opt/conda/lib/python3.10/site-packages (from scikit-learn) (1.11.4)\r\n",
      "Requirement already satisfied: joblib>=1.1.1 in /opt/conda/lib/python3.10/site-packages (from scikit-learn) (1.3.2)\r\n",
      "Requirement already satisfied: threadpoolctl>=2.0.0 in /opt/conda/lib/python3.10/site-packages (from scikit-learn) (3.2.0)\r\n",
      "Requirement already satisfied: absl-py>=1.0.0 in /opt/conda/lib/python3.10/site-packages (from tensorflow) (1.4.0)\r\n",
      "Requirement already satisfied: astunparse>=1.6.0 in /opt/conda/lib/python3.10/site-packages (from tensorflow) (1.6.3)\r\n",
      "Requirement already satisfied: flatbuffers>=23.5.26 in /opt/conda/lib/python3.10/site-packages (from tensorflow) (23.5.26)\r\n",
      "Requirement already satisfied: gast!=0.5.0,!=0.5.1,!=0.5.2,>=0.2.1 in /opt/conda/lib/python3.10/site-packages (from tensorflow) (0.5.4)\r\n",
      "Requirement already satisfied: google-pasta>=0.1.1 in /opt/conda/lib/python3.10/site-packages (from tensorflow) (0.2.0)\r\n",
      "Requirement already satisfied: h5py>=2.9.0 in /opt/conda/lib/python3.10/site-packages (from tensorflow) (3.10.0)\r\n",
      "Requirement already satisfied: libclang>=13.0.0 in /opt/conda/lib/python3.10/site-packages (from tensorflow) (16.0.6)\r\n",
      "Requirement already satisfied: ml-dtypes~=0.2.0 in /opt/conda/lib/python3.10/site-packages (from tensorflow) (0.2.0)\r\n",
      "Requirement already satisfied: opt-einsum>=2.3.2 in /opt/conda/lib/python3.10/site-packages (from tensorflow) (3.3.0)\r\n",
      "Requirement already satisfied: packaging in /opt/conda/lib/python3.10/site-packages (from tensorflow) (21.3)\r\n",
      "Requirement already satisfied: protobuf!=4.21.0,!=4.21.1,!=4.21.2,!=4.21.3,!=4.21.4,!=4.21.5,<5.0.0dev,>=3.20.3 in /opt/conda/lib/python3.10/site-packages (from tensorflow) (3.20.3)\r\n",
      "Requirement already satisfied: setuptools in /opt/conda/lib/python3.10/site-packages (from tensorflow) (69.0.3)\r\n",
      "Requirement already satisfied: six>=1.12.0 in /opt/conda/lib/python3.10/site-packages (from tensorflow) (1.16.0)\r\n",
      "Requirement already satisfied: termcolor>=1.1.0 in /opt/conda/lib/python3.10/site-packages (from tensorflow) (2.4.0)\r\n",
      "Requirement already satisfied: typing-extensions>=3.6.6 in /opt/conda/lib/python3.10/site-packages (from tensorflow) (4.9.0)\r\n",
      "Requirement already satisfied: wrapt<1.15,>=1.11.0 in /opt/conda/lib/python3.10/site-packages (from tensorflow) (1.14.1)\r\n",
      "Requirement already satisfied: tensorflow-io-gcs-filesystem>=0.23.1 in /opt/conda/lib/python3.10/site-packages (from tensorflow) (0.35.0)\r\n",
      "Requirement already satisfied: grpcio<2.0,>=1.24.3 in /opt/conda/lib/python3.10/site-packages (from tensorflow) (1.60.0)\r\n",
      "Requirement already satisfied: tensorboard<2.16,>=2.15 in /opt/conda/lib/python3.10/site-packages (from tensorflow) (2.15.1)\r\n",
      "Requirement already satisfied: tensorflow-estimator<2.16,>=2.15.0 in /opt/conda/lib/python3.10/site-packages (from tensorflow) (2.15.0)\r\n",
      "Collecting keras\r\n",
      "  Downloading keras-2.15.0-py3-none-any.whl.metadata (2.4 kB)\r\n",
      "Requirement already satisfied: wheel<1.0,>=0.23.0 in /opt/conda/lib/python3.10/site-packages (from astunparse>=1.6.0->tensorflow) (0.42.0)\r\n",
      "Requirement already satisfied: google-auth<3,>=1.6.3 in /opt/conda/lib/python3.10/site-packages (from tensorboard<2.16,>=2.15->tensorflow) (2.26.1)\r\n",
      "Requirement already satisfied: google-auth-oauthlib<2,>=0.5 in /opt/conda/lib/python3.10/site-packages (from tensorboard<2.16,>=2.15->tensorflow) (1.2.0)\r\n",
      "Requirement already satisfied: markdown>=2.6.8 in /opt/conda/lib/python3.10/site-packages (from tensorboard<2.16,>=2.15->tensorflow) (3.5.2)\r\n",
      "Requirement already satisfied: requests<3,>=2.21.0 in /opt/conda/lib/python3.10/site-packages (from tensorboard<2.16,>=2.15->tensorflow) (2.31.0)\r\n",
      "Requirement already satisfied: tensorboard-data-server<0.8.0,>=0.7.0 in /opt/conda/lib/python3.10/site-packages (from tensorboard<2.16,>=2.15->tensorflow) (0.7.2)\r\n",
      "Requirement already satisfied: werkzeug>=1.0.1 in /opt/conda/lib/python3.10/site-packages (from tensorboard<2.16,>=2.15->tensorflow) (3.0.1)\r\n",
      "Requirement already satisfied: pyparsing!=3.0.5,>=2.0.2 in /opt/conda/lib/python3.10/site-packages (from packaging->tensorflow) (3.1.1)\r\n",
      "Requirement already satisfied: cachetools<6.0,>=2.0.0 in /opt/conda/lib/python3.10/site-packages (from google-auth<3,>=1.6.3->tensorboard<2.16,>=2.15->tensorflow) (4.2.4)\r\n",
      "Requirement already satisfied: pyasn1-modules>=0.2.1 in /opt/conda/lib/python3.10/site-packages (from google-auth<3,>=1.6.3->tensorboard<2.16,>=2.15->tensorflow) (0.3.0)\r\n",
      "Requirement already satisfied: rsa<5,>=3.1.4 in /opt/conda/lib/python3.10/site-packages (from google-auth<3,>=1.6.3->tensorboard<2.16,>=2.15->tensorflow) (4.9)\r\n",
      "Requirement already satisfied: requests-oauthlib>=0.7.0 in /opt/conda/lib/python3.10/site-packages (from google-auth-oauthlib<2,>=0.5->tensorboard<2.16,>=2.15->tensorflow) (1.3.1)\r\n",
      "Requirement already satisfied: charset-normalizer<4,>=2 in /opt/conda/lib/python3.10/site-packages (from requests<3,>=2.21.0->tensorboard<2.16,>=2.15->tensorflow) (3.3.2)\r\n",
      "Requirement already satisfied: idna<4,>=2.5 in /opt/conda/lib/python3.10/site-packages (from requests<3,>=2.21.0->tensorboard<2.16,>=2.15->tensorflow) (3.6)\r\n",
      "Requirement already satisfied: urllib3<3,>=1.21.1 in /opt/conda/lib/python3.10/site-packages (from requests<3,>=2.21.0->tensorboard<2.16,>=2.15->tensorflow) (1.26.18)\r\n",
      "Requirement already satisfied: certifi>=2017.4.17 in /opt/conda/lib/python3.10/site-packages (from requests<3,>=2.21.0->tensorboard<2.16,>=2.15->tensorflow) (2024.2.2)\r\n",
      "Requirement already satisfied: MarkupSafe>=2.1.1 in /opt/conda/lib/python3.10/site-packages (from werkzeug>=1.0.1->tensorboard<2.16,>=2.15->tensorflow) (2.1.3)\r\n",
      "Requirement already satisfied: pyasn1<0.6.0,>=0.4.6 in /opt/conda/lib/python3.10/site-packages (from pyasn1-modules>=0.2.1->google-auth<3,>=1.6.3->tensorboard<2.16,>=2.15->tensorflow) (0.5.1)\r\n",
      "Requirement already satisfied: oauthlib>=3.0.0 in /opt/conda/lib/python3.10/site-packages (from requests-oauthlib>=0.7.0->google-auth-oauthlib<2,>=0.5->tensorboard<2.16,>=2.15->tensorflow) (3.2.2)\r\n",
      "Downloading keras-2.15.0-py3-none-any.whl (1.7 MB)\r\n",
      "\u001b[2K   \u001b[90m━━━━━━━━━━━━━━━━━━━━━━━━━━━━━━━━━━━━━━━━\u001b[0m \u001b[32m1.7/1.7 MB\u001b[0m \u001b[31m33.8 MB/s\u001b[0m eta \u001b[36m0:00:00\u001b[0m\r\n",
      "\u001b[?25hInstalling collected packages: keras\r\n",
      "  Attempting uninstall: keras\r\n",
      "    Found existing installation: keras 3.0.5\r\n",
      "    Uninstalling keras-3.0.5:\r\n",
      "      Successfully uninstalled keras-3.0.5\r\n",
      "\u001b[31mERROR: pip's dependency resolver does not currently take into account all the packages that are installed. This behaviour is the source of the following dependency conflicts.\r\n",
      "tensorflow-decision-forests 1.8.1 requires wurlitzer, which is not installed.\u001b[0m\u001b[31m\r\n",
      "\u001b[0mSuccessfully installed keras-2.15.0\r\n"
     ]
    }
   ],
   "source": [
    "!pip install numpy pandas scikit-learn tensorflow keras"
   ]
  },
  {
   "cell_type": "code",
   "execution_count": 2,
   "id": "1a0c389e",
   "metadata": {
    "_cell_guid": "23ef142f-b877-4615-8a09-f2b21a9527c7",
    "_uuid": "ff2b23d0-ad17-498f-9e36-04a96188c1c6",
    "collapsed": false,
    "execution": {
     "iopub.execute_input": "2024-03-18T18:12:10.931323Z",
     "iopub.status.busy": "2024-03-18T18:12:10.930935Z",
     "iopub.status.idle": "2024-03-18T18:12:25.776281Z",
     "shell.execute_reply": "2024-03-18T18:12:25.775191Z"
    },
    "jupyter": {
     "outputs_hidden": false
    },
    "papermill": {
     "duration": 14.855402,
     "end_time": "2024-03-18T18:12:25.778879",
     "exception": false,
     "start_time": "2024-03-18T18:12:10.923477",
     "status": "completed"
    },
    "tags": []
   },
   "outputs": [
    {
     "name": "stderr",
     "output_type": "stream",
     "text": [
      "2024-03-18 18:12:13.954717: E external/local_xla/xla/stream_executor/cuda/cuda_dnn.cc:9261] Unable to register cuDNN factory: Attempting to register factory for plugin cuDNN when one has already been registered\n",
      "2024-03-18 18:12:13.954885: E external/local_xla/xla/stream_executor/cuda/cuda_fft.cc:607] Unable to register cuFFT factory: Attempting to register factory for plugin cuFFT when one has already been registered\n",
      "2024-03-18 18:12:14.115322: E external/local_xla/xla/stream_executor/cuda/cuda_blas.cc:1515] Unable to register cuBLAS factory: Attempting to register factory for plugin cuBLAS when one has already been registered\n"
     ]
    }
   ],
   "source": [
    "import numpy as np\n",
    "import pandas as pd\n",
    "\n",
    "from keras.preprocessing.text import Tokenizer\n",
    "from keras.preprocessing.sequence import pad_sequences\n",
    "from sklearn.preprocessing import LabelEncoder\n",
    "from sklearn.model_selection import train_test_split\n",
    "from keras.models import Sequential\n",
    "from keras.layers import Dense, Embedding, LSTM, SpatialDropout1D\n",
    "from keras.utils import to_categorical"
   ]
  },
  {
   "cell_type": "code",
   "execution_count": 3,
   "id": "86556917",
   "metadata": {
    "_cell_guid": "af3bc608-3de7-47ac-a3c8-b69e38646348",
    "_uuid": "e5a68b37-6f47-4401-8cec-23ffe28cda72",
    "collapsed": false,
    "execution": {
     "iopub.execute_input": "2024-03-18T18:12:25.793886Z",
     "iopub.status.busy": "2024-03-18T18:12:25.793301Z",
     "iopub.status.idle": "2024-03-18T18:12:26.040900Z",
     "shell.execute_reply": "2024-03-18T18:12:26.039686Z"
    },
    "jupyter": {
     "outputs_hidden": false
    },
    "papermill": {
     "duration": 0.257962,
     "end_time": "2024-03-18T18:12:26.043772",
     "exception": false,
     "start_time": "2024-03-18T18:12:25.785810",
     "status": "completed"
    },
    "tags": []
   },
   "outputs": [
    {
     "data": {
      "text/html": [
       "<div>\n",
       "<style scoped>\n",
       "    .dataframe tbody tr th:only-of-type {\n",
       "        vertical-align: middle;\n",
       "    }\n",
       "\n",
       "    .dataframe tbody tr th {\n",
       "        vertical-align: top;\n",
       "    }\n",
       "\n",
       "    .dataframe thead th {\n",
       "        text-align: right;\n",
       "    }\n",
       "</style>\n",
       "<table border=\"1\" class=\"dataframe\">\n",
       "  <thead>\n",
       "    <tr style=\"text-align: right;\">\n",
       "      <th></th>\n",
       "      <th>id</th>\n",
       "      <th>content</th>\n",
       "      <th>category</th>\n",
       "    </tr>\n",
       "  </thead>\n",
       "  <tbody>\n",
       "    <tr>\n",
       "      <th>0</th>\n",
       "      <td>SW0</td>\n",
       "      <td>SERIKALI imesema haitakuwa tayari kuona amani...</td>\n",
       "      <td>Kitaifa</td>\n",
       "    </tr>\n",
       "    <tr>\n",
       "      <th>1</th>\n",
       "      <td>SW1</td>\n",
       "      <td>Mkuu wa Mkoa wa Tabora, Aggrey Mwanri amesiti...</td>\n",
       "      <td>Biashara</td>\n",
       "    </tr>\n",
       "    <tr>\n",
       "      <th>2</th>\n",
       "      <td>SW10</td>\n",
       "      <td>SERIKALI imetoa miezi sita kwa taasisi zote z...</td>\n",
       "      <td>Kitaifa</td>\n",
       "    </tr>\n",
       "  </tbody>\n",
       "</table>\n",
       "</div>"
      ],
      "text/plain": [
       "     id                                            content  category\n",
       "0   SW0   SERIKALI imesema haitakuwa tayari kuona amani...   Kitaifa\n",
       "1   SW1   Mkuu wa Mkoa wa Tabora, Aggrey Mwanri amesiti...  Biashara\n",
       "2  SW10   SERIKALI imetoa miezi sita kwa taasisi zote z...   Kitaifa"
      ]
     },
     "execution_count": 3,
     "metadata": {},
     "output_type": "execute_result"
    }
   ],
   "source": [
    "train = pd.read_csv(\"/kaggle/input/swahili-news-classification-zindi/Train.csv\")\n",
    "train.head(3)"
   ]
  },
  {
   "cell_type": "code",
   "execution_count": 4,
   "id": "4e399780",
   "metadata": {
    "_cell_guid": "b69da227-c88d-4a24-8c2b-5a305e214ff6",
    "_uuid": "5fcf6da7-6bbf-4a10-abb6-630bd4e0298c",
    "collapsed": false,
    "execution": {
     "iopub.execute_input": "2024-03-18T18:12:26.058529Z",
     "iopub.status.busy": "2024-03-18T18:12:26.058154Z",
     "iopub.status.idle": "2024-03-18T18:12:26.139317Z",
     "shell.execute_reply": "2024-03-18T18:12:26.137944Z"
    },
    "jupyter": {
     "outputs_hidden": false
    },
    "papermill": {
     "duration": 0.091111,
     "end_time": "2024-03-18T18:12:26.141693",
     "exception": false,
     "start_time": "2024-03-18T18:12:26.050582",
     "status": "completed"
    },
    "tags": []
   },
   "outputs": [
    {
     "data": {
      "text/html": [
       "<div>\n",
       "<style scoped>\n",
       "    .dataframe tbody tr th:only-of-type {\n",
       "        vertical-align: middle;\n",
       "    }\n",
       "\n",
       "    .dataframe tbody tr th {\n",
       "        vertical-align: top;\n",
       "    }\n",
       "\n",
       "    .dataframe thead th {\n",
       "        text-align: right;\n",
       "    }\n",
       "</style>\n",
       "<table border=\"1\" class=\"dataframe\">\n",
       "  <thead>\n",
       "    <tr style=\"text-align: right;\">\n",
       "      <th></th>\n",
       "      <th>swahili_id</th>\n",
       "      <th>content</th>\n",
       "    </tr>\n",
       "  </thead>\n",
       "  <tbody>\n",
       "    <tr>\n",
       "      <th>0</th>\n",
       "      <td>001dd47ac202d9db6624a5ff734a5e7dddafeaf2</td>\n",
       "      <td>MKUU wa Wilaya ya Bahi, Mkoani Dodoma, Mwanah...</td>\n",
       "    </tr>\n",
       "    <tr>\n",
       "      <th>1</th>\n",
       "      <td>0043d97f7690e9bc02f0ed8bb2b260d1d44bad92</td>\n",
       "      <td>MWISHONI mwa wiki hii, Timu ya Soka ya Taifa,...</td>\n",
       "    </tr>\n",
       "    <tr>\n",
       "      <th>2</th>\n",
       "      <td>00579c2307b5c11003d21c40c3ecff5e922c3fd8</td>\n",
       "      <td>THAMANI ya mauzo ya bidhaa za Afrika Masharik...</td>\n",
       "    </tr>\n",
       "  </tbody>\n",
       "</table>\n",
       "</div>"
      ],
      "text/plain": [
       "                                 swahili_id  \\\n",
       "0  001dd47ac202d9db6624a5ff734a5e7dddafeaf2   \n",
       "1  0043d97f7690e9bc02f0ed8bb2b260d1d44bad92   \n",
       "2  00579c2307b5c11003d21c40c3ecff5e922c3fd8   \n",
       "\n",
       "                                             content  \n",
       "0   MKUU wa Wilaya ya Bahi, Mkoani Dodoma, Mwanah...  \n",
       "1   MWISHONI mwa wiki hii, Timu ya Soka ya Taifa,...  \n",
       "2   THAMANI ya mauzo ya bidhaa za Afrika Masharik...  "
      ]
     },
     "execution_count": 4,
     "metadata": {},
     "output_type": "execute_result"
    }
   ],
   "source": [
    "test = pd.read_csv(\"/kaggle/input/swahili-news-classification-zindi/Test.csv\")\n",
    "test.head(3)"
   ]
  },
  {
   "cell_type": "code",
   "execution_count": 5,
   "id": "50706e2c",
   "metadata": {
    "_cell_guid": "55643eb3-d978-417e-9281-e2c1d5910f35",
    "_uuid": "6605a4a4-8ba6-45f8-a990-7719497b7aea",
    "collapsed": false,
    "execution": {
     "iopub.execute_input": "2024-03-18T18:12:26.156431Z",
     "iopub.status.busy": "2024-03-18T18:12:26.156061Z",
     "iopub.status.idle": "2024-03-18T18:12:26.163303Z",
     "shell.execute_reply": "2024-03-18T18:12:26.162036Z"
    },
    "jupyter": {
     "outputs_hidden": false
    },
    "papermill": {
     "duration": 0.017385,
     "end_time": "2024-03-18T18:12:26.165764",
     "exception": false,
     "start_time": "2024-03-18T18:12:26.148379",
     "status": "completed"
    },
    "tags": []
   },
   "outputs": [],
   "source": [
    "text_data = train['content']\n",
    "labels = train['category']"
   ]
  },
  {
   "cell_type": "code",
   "execution_count": 6,
   "id": "e471ba9c",
   "metadata": {
    "_cell_guid": "ddc81ece-8c1f-4867-8eec-efaa6002ac0f",
    "_uuid": "c531f179-722b-448e-ac5a-9911d92e5653",
    "collapsed": false,
    "execution": {
     "iopub.execute_input": "2024-03-18T18:12:26.180526Z",
     "iopub.status.busy": "2024-03-18T18:12:26.180161Z",
     "iopub.status.idle": "2024-03-18T18:12:26.185179Z",
     "shell.execute_reply": "2024-03-18T18:12:26.183979Z"
    },
    "jupyter": {
     "outputs_hidden": false
    },
    "papermill": {
     "duration": 0.014982,
     "end_time": "2024-03-18T18:12:26.187641",
     "exception": false,
     "start_time": "2024-03-18T18:12:26.172659",
     "status": "completed"
    },
    "tags": []
   },
   "outputs": [],
   "source": [
    "test_text = test['content']"
   ]
  },
  {
   "cell_type": "code",
   "execution_count": 7,
   "id": "5622e071",
   "metadata": {
    "_cell_guid": "075d0a80-6cd2-4e49-9e27-3f0e13ae517c",
    "_uuid": "06ffec5c-109a-444c-add8-d2c97fc954c5",
    "collapsed": false,
    "execution": {
     "iopub.execute_input": "2024-03-18T18:12:26.203432Z",
     "iopub.status.busy": "2024-03-18T18:12:26.203064Z",
     "iopub.status.idle": "2024-03-18T18:12:29.964841Z",
     "shell.execute_reply": "2024-03-18T18:12:29.963463Z"
    },
    "jupyter": {
     "outputs_hidden": false
    },
    "papermill": {
     "duration": 3.772616,
     "end_time": "2024-03-18T18:12:29.967245",
     "exception": false,
     "start_time": "2024-03-18T18:12:26.194629",
     "status": "completed"
    },
    "tags": []
   },
   "outputs": [],
   "source": [
    "tokenizer = Tokenizer(num_words =5000, oov_token='<OOV>')\n",
    "tokenizer.fit_on_texts(text_data)\n",
    "sequences = tokenizer.texts_to_sequences(text_data)"
   ]
  },
  {
   "cell_type": "code",
   "execution_count": 8,
   "id": "fa51d91d",
   "metadata": {
    "_cell_guid": "19ee16df-8777-4855-9047-2852cd22116c",
    "_uuid": "847e949a-7e16-45e9-b6ce-c815e946b927",
    "collapsed": false,
    "execution": {
     "iopub.execute_input": "2024-03-18T18:12:29.982779Z",
     "iopub.status.busy": "2024-03-18T18:12:29.982444Z",
     "iopub.status.idle": "2024-03-18T18:12:30.906906Z",
     "shell.execute_reply": "2024-03-18T18:12:30.906055Z"
    },
    "jupyter": {
     "outputs_hidden": false
    },
    "papermill": {
     "duration": 0.934022,
     "end_time": "2024-03-18T18:12:30.908920",
     "exception": false,
     "start_time": "2024-03-18T18:12:29.974898",
     "status": "completed"
    },
    "tags": []
   },
   "outputs": [],
   "source": [
    "tokenizer2 = Tokenizer(num_words =5000, oov_token='<OOV>')\n",
    "tokenizer2.fit_on_texts(test_text)\n",
    "sequences2 = tokenizer2.texts_to_sequences(test_text)"
   ]
  },
  {
   "cell_type": "code",
   "execution_count": 9,
   "id": "a6eb5403",
   "metadata": {
    "_cell_guid": "8954475d-c135-4935-9c6a-fe1cbad052e9",
    "_uuid": "b5f808d6-0b60-48df-9553-aeb3272c4a3c",
    "collapsed": false,
    "execution": {
     "iopub.execute_input": "2024-03-18T18:12:30.923903Z",
     "iopub.status.busy": "2024-03-18T18:12:30.923236Z",
     "iopub.status.idle": "2024-03-18T18:12:30.958712Z",
     "shell.execute_reply": "2024-03-18T18:12:30.957425Z"
    },
    "jupyter": {
     "outputs_hidden": false
    },
    "papermill": {
     "duration": 0.045582,
     "end_time": "2024-03-18T18:12:30.961224",
     "exception": false,
     "start_time": "2024-03-18T18:12:30.915642",
     "status": "completed"
    },
    "tags": []
   },
   "outputs": [],
   "source": [
    "max_sequence_length = 100\n",
    "padded_sequences = pad_sequences(sequences, maxlen=max_sequence_length, padding = 'post')"
   ]
  },
  {
   "cell_type": "code",
   "execution_count": 10,
   "id": "1360ecce",
   "metadata": {
    "_cell_guid": "e43cb3d0-dd2d-4325-a182-5a211469dcf5",
    "_uuid": "325cb012-7e74-4910-9272-2ec1f31ce471",
    "collapsed": false,
    "execution": {
     "iopub.execute_input": "2024-03-18T18:12:30.976143Z",
     "iopub.status.busy": "2024-03-18T18:12:30.975810Z",
     "iopub.status.idle": "2024-03-18T18:12:30.991001Z",
     "shell.execute_reply": "2024-03-18T18:12:30.989720Z"
    },
    "jupyter": {
     "outputs_hidden": false
    },
    "papermill": {
     "duration": 0.025766,
     "end_time": "2024-03-18T18:12:30.993700",
     "exception": false,
     "start_time": "2024-03-18T18:12:30.967934",
     "status": "completed"
    },
    "tags": []
   },
   "outputs": [],
   "source": [
    "max_sequence_length = 100\n",
    "test_sequences = pad_sequences(sequences2, maxlen=max_sequence_length, padding = 'post')"
   ]
  },
  {
   "cell_type": "code",
   "execution_count": 11,
   "id": "893511ca",
   "metadata": {
    "_cell_guid": "665298d9-6955-472b-9e65-cfc96c253da7",
    "_uuid": "092a08d9-a8d0-40aa-bc2c-741d6aaa774d",
    "collapsed": false,
    "execution": {
     "iopub.execute_input": "2024-03-18T18:12:31.008154Z",
     "iopub.status.busy": "2024-03-18T18:12:31.007840Z",
     "iopub.status.idle": "2024-03-18T18:12:31.013909Z",
     "shell.execute_reply": "2024-03-18T18:12:31.013243Z"
    },
    "jupyter": {
     "outputs_hidden": false
    },
    "papermill": {
     "duration": 0.015346,
     "end_time": "2024-03-18T18:12:31.015616",
     "exception": false,
     "start_time": "2024-03-18T18:12:31.000270",
     "status": "completed"
    },
    "tags": []
   },
   "outputs": [],
   "source": [
    "label_encoder = LabelEncoder()\n",
    "encoded_labels = label_encoder.fit_transform(labels)\n",
    "categorical_labels = to_categorical(encoded_labels)"
   ]
  },
  {
   "cell_type": "code",
   "execution_count": 12,
   "id": "5d4bbc66",
   "metadata": {
    "_cell_guid": "90f7b02a-6438-4533-a196-010f322b1894",
    "_uuid": "5ec319ac-0dbe-4480-9e45-c219790fe70d",
    "collapsed": false,
    "execution": {
     "iopub.execute_input": "2024-03-18T18:12:31.030416Z",
     "iopub.status.busy": "2024-03-18T18:12:31.030044Z",
     "iopub.status.idle": "2024-03-18T18:12:31.040808Z",
     "shell.execute_reply": "2024-03-18T18:12:31.039585Z"
    },
    "jupyter": {
     "outputs_hidden": false
    },
    "papermill": {
     "duration": 0.020756,
     "end_time": "2024-03-18T18:12:31.043089",
     "exception": false,
     "start_time": "2024-03-18T18:12:31.022333",
     "status": "completed"
    },
    "tags": []
   },
   "outputs": [],
   "source": [
    "X_train, X_valid, y_train, y_valid = train_test_split(padded_sequences, categorical_labels, test_size=0.2, random_state=42)"
   ]
  },
  {
   "cell_type": "code",
   "execution_count": 13,
   "id": "0a4a9406",
   "metadata": {
    "_cell_guid": "c6907091-e115-48e5-bbd8-0a4ff73b2eab",
    "_uuid": "039e3ad9-c56d-4fb1-b8b4-731135687f94",
    "collapsed": false,
    "execution": {
     "iopub.execute_input": "2024-03-18T18:12:31.058034Z",
     "iopub.status.busy": "2024-03-18T18:12:31.057679Z",
     "iopub.status.idle": "2024-03-18T18:12:31.333379Z",
     "shell.execute_reply": "2024-03-18T18:12:31.332100Z"
    },
    "jupyter": {
     "outputs_hidden": false
    },
    "papermill": {
     "duration": 0.28647,
     "end_time": "2024-03-18T18:12:31.336312",
     "exception": false,
     "start_time": "2024-03-18T18:12:31.049842",
     "status": "completed"
    },
    "tags": []
   },
   "outputs": [
    {
     "name": "stdout",
     "output_type": "stream",
     "text": [
      "Model: \"sequential\"\n",
      "_________________________________________________________________\n",
      " Layer (type)                Output Shape              Param #   \n",
      "=================================================================\n",
      " embedding (Embedding)       (None, None, 128)         640000    \n",
      "                                                                 \n",
      " spatial_dropout1d (Spatial  (None, None, 128)         0         \n",
      " Dropout1D)                                                      \n",
      "                                                                 \n",
      " lstm (LSTM)                 (None, 100)               91600     \n",
      "                                                                 \n",
      " dense (Dense)               (None, 5)                 505       \n",
      "                                                                 \n",
      "=================================================================\n",
      "Total params: 732105 (2.79 MB)\n",
      "Trainable params: 732105 (2.79 MB)\n",
      "Non-trainable params: 0 (0.00 Byte)\n",
      "_________________________________________________________________\n",
      "None\n"
     ]
    }
   ],
   "source": [
    "model = Sequential()\n",
    "model.add(Embedding(5000, 128))\n",
    "model.add(SpatialDropout1D(0.2))\n",
    "model.add(LSTM(100, dropout=0.2, recurrent_dropout=0.2))\n",
    "model.add(Dense(len(set(labels)), activation='softmax'))\n",
    "\n",
    "model.compile(loss='categorical_crossentropy', optimizer='adam', metrics=['accuracy'])\n",
    "\n",
    "print(model.summary())"
   ]
  },
  {
   "cell_type": "code",
   "execution_count": 14,
   "id": "85d9a5b4",
   "metadata": {
    "_cell_guid": "7e686226-1829-4493-9ebb-720e6fd199f1",
    "_uuid": "abe8d331-288e-4b3a-9a5d-67a71c0998c2",
    "collapsed": false,
    "execution": {
     "iopub.execute_input": "2024-03-18T18:12:31.353800Z",
     "iopub.status.busy": "2024-03-18T18:12:31.353466Z",
     "iopub.status.idle": "2024-03-18T18:13:52.119573Z",
     "shell.execute_reply": "2024-03-18T18:13:52.118647Z"
    },
    "jupyter": {
     "outputs_hidden": false
    },
    "papermill": {
     "duration": 80.777284,
     "end_time": "2024-03-18T18:13:52.121486",
     "exception": false,
     "start_time": "2024-03-18T18:12:31.344202",
     "status": "completed"
    },
    "tags": []
   },
   "outputs": [
    {
     "name": "stdout",
     "output_type": "stream",
     "text": [
      "Epoch 1/10\n",
      "65/65 [==============================] - 11s 126ms/step - loss: 1.1581 - accuracy: 0.4536 - val_loss: 1.2546 - val_accuracy: 0.4888\n",
      "Epoch 2/10\n",
      "65/65 [==============================] - 8s 117ms/step - loss: 0.7239 - accuracy: 0.6617 - val_loss: 0.6559 - val_accuracy: 0.7129\n",
      "Epoch 3/10\n",
      "65/65 [==============================] - 8s 119ms/step - loss: 0.5716 - accuracy: 0.7473 - val_loss: 0.5968 - val_accuracy: 0.7371\n",
      "Epoch 4/10\n",
      "65/65 [==============================] - 8s 119ms/step - loss: 0.4286 - accuracy: 0.8340 - val_loss: 0.5509 - val_accuracy: 0.7740\n",
      "Epoch 5/10\n",
      "65/65 [==============================] - 8s 123ms/step - loss: 0.3169 - accuracy: 0.8869 - val_loss: 0.5488 - val_accuracy: 0.7876\n",
      "Epoch 6/10\n",
      "65/65 [==============================] - 8s 116ms/step - loss: 0.2352 - accuracy: 0.9211 - val_loss: 0.6725 - val_accuracy: 0.7915\n",
      "Epoch 7/10\n",
      "65/65 [==============================] - 8s 119ms/step - loss: 0.1915 - accuracy: 0.9362 - val_loss: 0.6291 - val_accuracy: 0.7740\n",
      "Epoch 8/10\n",
      "65/65 [==============================] - 8s 119ms/step - loss: 0.1487 - accuracy: 0.9493 - val_loss: 0.6940 - val_accuracy: 0.7711\n",
      "Epoch 9/10\n",
      "65/65 [==============================] - 8s 123ms/step - loss: 0.1461 - accuracy: 0.9507 - val_loss: 0.7816 - val_accuracy: 0.7856\n",
      "Epoch 10/10\n",
      "65/65 [==============================] - 8s 117ms/step - loss: 0.0938 - accuracy: 0.9692 - val_loss: 0.7978 - val_accuracy: 0.7886\n"
     ]
    }
   ],
   "source": [
    "epochs = 10\n",
    "batch_size = 64\n",
    "history = model.fit(X_train, y_train, epochs=epochs, batch_size=batch_size, validation_data=(X_valid, y_valid), verbose=1)"
   ]
  },
  {
   "cell_type": "code",
   "execution_count": 15,
   "id": "f0a0445f",
   "metadata": {
    "_cell_guid": "c1982185-6dd0-40c3-8068-2baec7e6b00f",
    "_uuid": "42025151-b658-422f-aa96-a57b1542b583",
    "collapsed": false,
    "execution": {
     "iopub.execute_input": "2024-03-18T18:13:52.216116Z",
     "iopub.status.busy": "2024-03-18T18:13:52.215539Z",
     "iopub.status.idle": "2024-03-18T18:13:52.851695Z",
     "shell.execute_reply": "2024-03-18T18:13:52.850469Z"
    },
    "jupyter": {
     "outputs_hidden": false
    },
    "papermill": {
     "duration": 0.6861,
     "end_time": "2024-03-18T18:13:52.853455",
     "exception": false,
     "start_time": "2024-03-18T18:13:52.167355",
     "status": "completed"
    },
    "tags": []
   },
   "outputs": [
    {
     "name": "stdout",
     "output_type": "stream",
     "text": [
      "33/33 [==============================] - 1s 17ms/step - loss: 0.7978 - accuracy: 0.7886\n",
      "Test Accuracy: 78.86%\n"
     ]
    }
   ],
   "source": [
    "loss, accuracy = model.evaluate(X_valid, y_valid, verbose=1)\n",
    "print(\"Test Accuracy: {:.2f}%\".format(accuracy * 100))"
   ]
  },
  {
   "cell_type": "code",
   "execution_count": 16,
   "id": "88a6733f",
   "metadata": {
    "_cell_guid": "57fb2269-eb65-4d42-8d63-8f553cb08671",
    "_uuid": "e3b77f50-7973-4922-a34e-e100c2f16624",
    "collapsed": false,
    "execution": {
     "iopub.execute_input": "2024-03-18T18:13:52.948058Z",
     "iopub.status.busy": "2024-03-18T18:13:52.947383Z",
     "iopub.status.idle": "2024-03-18T18:13:54.483848Z",
     "shell.execute_reply": "2024-03-18T18:13:54.483018Z"
    },
    "jupyter": {
     "outputs_hidden": false
    },
    "papermill": {
     "duration": 1.585827,
     "end_time": "2024-03-18T18:13:54.485410",
     "exception": false,
     "start_time": "2024-03-18T18:13:52.899583",
     "status": "completed"
    },
    "tags": []
   },
   "outputs": [
    {
     "name": "stdout",
     "output_type": "stream",
     "text": [
      "41/41 [==============================] - 1s 18ms/step\n"
     ]
    },
    {
     "data": {
      "text/plain": [
       "array([[2.3965733e-01, 2.7533378e-02, 8.8230960e-02, 6.0132468e-01,\n",
       "        4.3253671e-02],\n",
       "       [1.7279314e-04, 5.0584506e-05, 3.4538083e-04, 1.3371801e-03,\n",
       "        9.9809396e-01],\n",
       "       [1.1797577e-01, 2.7026623e-03, 1.5900275e-02, 7.2221816e-01,\n",
       "        1.4120314e-01],\n",
       "       ...,\n",
       "       [2.1303695e-01, 8.0287438e-03, 1.8289855e-02, 7.3303676e-01,\n",
       "        2.7607627e-02],\n",
       "       [2.7733645e-03, 4.6549609e-04, 2.8741371e-03, 6.8483591e-01,\n",
       "        3.0905095e-01],\n",
       "       [1.3217659e-02, 1.3534422e-03, 4.6315189e-03, 9.7613925e-01,\n",
       "        4.6581211e-03]], dtype=float32)"
      ]
     },
     "execution_count": 16,
     "metadata": {},
     "output_type": "execute_result"
    }
   ],
   "source": [
    "preds = model.predict(test_sequences)\n",
    "preds"
   ]
  },
  {
   "cell_type": "code",
   "execution_count": 17,
   "id": "50e76195",
   "metadata": {
    "execution": {
     "iopub.execute_input": "2024-03-18T18:13:54.582873Z",
     "iopub.status.busy": "2024-03-18T18:13:54.582239Z",
     "iopub.status.idle": "2024-03-18T18:13:54.592939Z",
     "shell.execute_reply": "2024-03-18T18:13:54.592140Z"
    },
    "papermill": {
     "duration": 0.062335,
     "end_time": "2024-03-18T18:13:54.595339",
     "exception": false,
     "start_time": "2024-03-18T18:13:54.533004",
     "status": "completed"
    },
    "tags": []
   },
   "outputs": [
    {
     "data": {
      "text/plain": [
       "array(['Kitaifa', 'michezo', 'Kitaifa', ..., 'Kitaifa', 'Kitaifa',\n",
       "       'Kitaifa'], dtype=object)"
      ]
     },
     "execution_count": 17,
     "metadata": {},
     "output_type": "execute_result"
    }
   ],
   "source": [
    "predicted_labels = np.argmax(preds, axis=1)\n",
    "\n",
    "predicted_categories = label_encoder.inverse_transform(predicted_labels)\n",
    "predicted_categories"
   ]
  },
  {
   "cell_type": "code",
   "execution_count": 18,
   "id": "d8370672",
   "metadata": {
    "execution": {
     "iopub.execute_input": "2024-03-18T18:13:54.750323Z",
     "iopub.status.busy": "2024-03-18T18:13:54.749968Z",
     "iopub.status.idle": "2024-03-18T18:13:54.759204Z",
     "shell.execute_reply": "2024-03-18T18:13:54.758303Z"
    },
    "papermill": {
     "duration": 0.061614,
     "end_time": "2024-03-18T18:13:54.761209",
     "exception": false,
     "start_time": "2024-03-18T18:13:54.699595",
     "status": "completed"
    },
    "tags": []
   },
   "outputs": [
    {
     "data": {
      "text/html": [
       "<div>\n",
       "<style scoped>\n",
       "    .dataframe tbody tr th:only-of-type {\n",
       "        vertical-align: middle;\n",
       "    }\n",
       "\n",
       "    .dataframe tbody tr th {\n",
       "        vertical-align: top;\n",
       "    }\n",
       "\n",
       "    .dataframe thead th {\n",
       "        text-align: right;\n",
       "    }\n",
       "</style>\n",
       "<table border=\"1\" class=\"dataframe\">\n",
       "  <thead>\n",
       "    <tr style=\"text-align: right;\">\n",
       "      <th></th>\n",
       "      <th>ID</th>\n",
       "      <th>category</th>\n",
       "    </tr>\n",
       "  </thead>\n",
       "  <tbody>\n",
       "    <tr>\n",
       "      <th>0</th>\n",
       "      <td>001dd47ac202d9db6624a5ff734a5e7dddafeaf2</td>\n",
       "      <td>Kitaifa</td>\n",
       "    </tr>\n",
       "    <tr>\n",
       "      <th>1</th>\n",
       "      <td>0043d97f7690e9bc02f0ed8bb2b260d1d44bad92</td>\n",
       "      <td>michezo</td>\n",
       "    </tr>\n",
       "    <tr>\n",
       "      <th>2</th>\n",
       "      <td>00579c2307b5c11003d21c40c3ecff5e922c3fd8</td>\n",
       "      <td>Kitaifa</td>\n",
       "    </tr>\n",
       "  </tbody>\n",
       "</table>\n",
       "</div>"
      ],
      "text/plain": [
       "                                         ID category\n",
       "0  001dd47ac202d9db6624a5ff734a5e7dddafeaf2  Kitaifa\n",
       "1  0043d97f7690e9bc02f0ed8bb2b260d1d44bad92  michezo\n",
       "2  00579c2307b5c11003d21c40c3ecff5e922c3fd8  Kitaifa"
      ]
     },
     "execution_count": 18,
     "metadata": {},
     "output_type": "execute_result"
    }
   ],
   "source": [
    "submission_df = pd.DataFrame({'ID': test['swahili_id'], 'category': predicted_categories})\n",
    "submission_df.head(3)"
   ]
  },
  {
   "cell_type": "code",
   "execution_count": 19,
   "id": "1525b2f0",
   "metadata": {
    "execution": {
     "iopub.execute_input": "2024-03-18T18:13:54.860363Z",
     "iopub.status.busy": "2024-03-18T18:13:54.859292Z",
     "iopub.status.idle": "2024-03-18T18:13:54.884814Z",
     "shell.execute_reply": "2024-03-18T18:13:54.883829Z"
    },
    "papermill": {
     "duration": 0.077859,
     "end_time": "2024-03-18T18:13:54.886530",
     "exception": false,
     "start_time": "2024-03-18T18:13:54.808671",
     "status": "completed"
    },
    "tags": []
   },
   "outputs": [
    {
     "data": {
      "text/html": [
       "<div>\n",
       "<style scoped>\n",
       "    .dataframe tbody tr th:only-of-type {\n",
       "        vertical-align: middle;\n",
       "    }\n",
       "\n",
       "    .dataframe tbody tr th {\n",
       "        vertical-align: top;\n",
       "    }\n",
       "\n",
       "    .dataframe thead th {\n",
       "        text-align: right;\n",
       "    }\n",
       "</style>\n",
       "<table border=\"1\" class=\"dataframe\">\n",
       "  <thead>\n",
       "    <tr style=\"text-align: right;\">\n",
       "      <th></th>\n",
       "      <th>ID</th>\n",
       "      <th>Biashara</th>\n",
       "      <th>Burudani</th>\n",
       "      <th>Kimataifa</th>\n",
       "      <th>Kitaifa</th>\n",
       "      <th>michezo</th>\n",
       "    </tr>\n",
       "  </thead>\n",
       "  <tbody>\n",
       "    <tr>\n",
       "      <th>0</th>\n",
       "      <td>001dd47ac202d9db6624a5ff734a5e7dddafeaf2</td>\n",
       "      <td>0</td>\n",
       "      <td>0</td>\n",
       "      <td>0</td>\n",
       "      <td>1</td>\n",
       "      <td>0</td>\n",
       "    </tr>\n",
       "    <tr>\n",
       "      <th>1</th>\n",
       "      <td>0043d97f7690e9bc02f0ed8bb2b260d1d44bad92</td>\n",
       "      <td>0</td>\n",
       "      <td>0</td>\n",
       "      <td>0</td>\n",
       "      <td>0</td>\n",
       "      <td>1</td>\n",
       "    </tr>\n",
       "    <tr>\n",
       "      <th>2</th>\n",
       "      <td>00579c2307b5c11003d21c40c3ecff5e922c3fd8</td>\n",
       "      <td>0</td>\n",
       "      <td>0</td>\n",
       "      <td>0</td>\n",
       "      <td>1</td>\n",
       "      <td>0</td>\n",
       "    </tr>\n",
       "  </tbody>\n",
       "</table>\n",
       "</div>"
      ],
      "text/plain": [
       "                                         ID  Biashara  Burudani  Kimataifa  \\\n",
       "0  001dd47ac202d9db6624a5ff734a5e7dddafeaf2         0         0          0   \n",
       "1  0043d97f7690e9bc02f0ed8bb2b260d1d44bad92         0         0          0   \n",
       "2  00579c2307b5c11003d21c40c3ecff5e922c3fd8         0         0          0   \n",
       "\n",
       "   Kitaifa  michezo  \n",
       "0        1        0  \n",
       "1        0        1  \n",
       "2        1        0  "
      ]
     },
     "execution_count": 19,
     "metadata": {},
     "output_type": "execute_result"
    }
   ],
   "source": [
    "one_hot_encoded = pd.get_dummies(submission_df['category']).astype(int)\n",
    "df_encoded = pd.concat([submission_df, one_hot_encoded], axis=1)\n",
    "df_encoded.drop(columns=['category'], inplace=True)\n",
    "\n",
    "df_encoded.head(3)"
   ]
  },
  {
   "cell_type": "code",
   "execution_count": 20,
   "id": "5d54ca86",
   "metadata": {
    "execution": {
     "iopub.execute_input": "2024-03-18T18:13:54.984202Z",
     "iopub.status.busy": "2024-03-18T18:13:54.983612Z",
     "iopub.status.idle": "2024-03-18T18:13:54.994333Z",
     "shell.execute_reply": "2024-03-18T18:13:54.993501Z"
    },
    "papermill": {
     "duration": 0.062516,
     "end_time": "2024-03-18T18:13:54.996302",
     "exception": false,
     "start_time": "2024-03-18T18:13:54.933786",
     "status": "completed"
    },
    "tags": []
   },
   "outputs": [],
   "source": [
    "df_encoded.to_csv('submission.csv', index=False)"
   ]
  }
 ],
 "metadata": {
  "kaggle": {
   "accelerator": "none",
   "dataSources": [
    {
     "datasetId": 4464558,
     "sourceId": 7657291,
     "sourceType": "datasetVersion"
    }
   ],
   "dockerImageVersionId": 30664,
   "isGpuEnabled": false,
   "isInternetEnabled": true,
   "language": "python",
   "sourceType": "notebook"
  },
  "kernelspec": {
   "display_name": "Python 3",
   "language": "python",
   "name": "python3"
  },
  "language_info": {
   "codemirror_mode": {
    "name": "ipython",
    "version": 3
   },
   "file_extension": ".py",
   "mimetype": "text/x-python",
   "name": "python",
   "nbconvert_exporter": "python",
   "pygments_lexer": "ipython3",
   "version": "3.10.13"
  },
  "papermill": {
   "default_parameters": {},
   "duration": 122.93617,
   "end_time": "2024-03-18T18:13:56.770688",
   "environment_variables": {},
   "exception": null,
   "input_path": "__notebook__.ipynb",
   "output_path": "__notebook__.ipynb",
   "parameters": {},
   "start_time": "2024-03-18T18:11:53.834518",
   "version": "2.5.0"
  }
 },
 "nbformat": 4,
 "nbformat_minor": 5
}
